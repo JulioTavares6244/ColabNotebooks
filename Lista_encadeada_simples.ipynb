{
  "nbformat": 4,
  "nbformat_minor": 0,
  "metadata": {
    "colab": {
      "provenance": []
    },
    "kernelspec": {
      "name": "python3",
      "display_name": "Python 3"
    },
    "language_info": {
      "name": "python"
    }
  },
  "cells": [
    {
      "cell_type": "markdown",
      "source": [
        "#**Criação de um Nodo**"
      ],
      "metadata": {
        "id": "hrVjim6_8jar"
      }
    },
    {
      "cell_type": "code",
      "execution_count": null,
      "metadata": {
        "colab": {
          "base_uri": "https://localhost:8080/"
        },
        "id": "viTN1v3R8DiI",
        "outputId": "f8c42f71-8da1-44eb-cd92-05839486a00c"
      },
      "outputs": [
        {
          "output_type": "stream",
          "name": "stdout",
          "text": [
            "0 -> None\n",
            "casa -> None\n"
          ]
        }
      ],
      "source": [
        "#Código em Python\n",
        "\n",
        "#Classe Nodo\n",
        "class Nodo:\n",
        "    def __init__(self, dado=0, proximo_nodo=None):\n",
        "        self.conteudo = dado\n",
        "        self.proximo = proximo_nodo\n",
        "\n",
        "    def __repr__(self):\n",
        "        return '%s -> %s' % (self.conteudo, self.proximo)\n",
        "\n",
        "# Programa Principal de teste\n",
        "\n",
        "Nd = Nodo()\n",
        "print(Nd)\n",
        "\n",
        "Nd2 = Nodo(\"casa\")\n",
        "print(Nd2)"
      ]
    },
    {
      "cell_type": "markdown",
      "source": [
        "#**Criação da classe ListaEncadeada**"
      ],
      "metadata": {
        "id": "mlRzJ0su9v55"
      }
    },
    {
      "cell_type": "code",
      "source": [
        "#Código em Python\n",
        "\n",
        "#Classe Lista Encadeada\n",
        "class ListaEncadeada:\n",
        "\n",
        "    def __init__(self):\n",
        "        self.inicio = None\n",
        "\n",
        "    def __repr__(self):\n",
        "        return \"[\" + str(self.inicio) + \"]\"\n",
        "\n",
        "# Programa Principal de Teste\n",
        "lista = ListaEncadeada()\n",
        "Nd = Nodo(\"Primeiro\")\n",
        "lista.inicio = Nd\n",
        "print(lista)"
      ],
      "metadata": {
        "colab": {
          "base_uri": "https://localhost:8080/"
        },
        "id": "2A0FZAzW9jER",
        "outputId": "e69f752c-2d19-42e6-f9ea-777343e074bd"
      },
      "execution_count": null,
      "outputs": [
        {
          "output_type": "stream",
          "name": "stdout",
          "text": [
            "[Primeiro -> None]\n"
          ]
        }
      ]
    },
    {
      "cell_type": "markdown",
      "source": [
        "#**Criação da função ListaVazia**"
      ],
      "metadata": {
        "id": "Y4khXTGa-tpj"
      }
    },
    {
      "cell_type": "code",
      "source": [
        "#Código em Python\n",
        "\n",
        "#Método que verifica se a lista está Vazia, Caso positivo Retorna True\n",
        "#caso contrário False\n",
        "def ListaVazia(Lista):\n",
        "    if Lista.inicio == None:\n",
        "        return True\n",
        "    else:\n",
        "        return False\n",
        "\n",
        "# Programa Principal de teste\n",
        "\n",
        "lista = ListaEncadeada()\n",
        "print(\"A lista está vazia: \", ListaVazia(lista))\n",
        "\n",
        "Nd = Nodo(\"Primeiro\")\n",
        "lista.inicio = Nd\n",
        "\n",
        "print(\"A lista está vazia: \", ListaVazia(lista))"
      ],
      "metadata": {
        "colab": {
          "base_uri": "https://localhost:8080/"
        },
        "id": "evKjptey-yjC",
        "outputId": "b7e8f72b-d956-4169-9005-42a27e990147"
      },
      "execution_count": null,
      "outputs": [
        {
          "output_type": "stream",
          "name": "stdout",
          "text": [
            "A lista está vazia:  True\n",
            "A lista está vazia:  False\n"
          ]
        }
      ]
    },
    {
      "cell_type": "markdown",
      "source": [
        "#**Criação do método TamanhoLista**"
      ],
      "metadata": {
        "id": "2UHPwrM5AA-N"
      }
    },
    {
      "cell_type": "code",
      "source": [
        "#Código em Python\n",
        "\n",
        "# Método que informa o tamanho da lista\n",
        "def TamanhoLista(self):\n",
        "    atual = self.inicio\n",
        "    tamanho = 0\n",
        "\n",
        "#Verifica se a lista está vazia e já retorna co Zero\n",
        "    if self.inicio == None:\n",
        "        return 0\n",
        "\n",
        "#Verifica se a lista possui somente um elemento\n",
        "    if atual.conteudo != None and atual.proximo == None:\n",
        "        tamanho = 1\n",
        "# Percorre toda a lista até o último nodo ser vazio, incrementando +1\n",
        "# em cada Loop e passando a posição do próximo nodo\n",
        "    while atual.proximo != None:\n",
        "        tamanho = tamanho + 1\n",
        "        atual = atual.proximo\n",
        "\n",
        "    return tamanho\n",
        "\n",
        "# Programa Principal de teste\n",
        "lista = ListaEncadeada()\n",
        "Nd = Nodo(\"Primeiro\")\n",
        "\n",
        "#Adiciona 1 elemento na lista\n",
        "lista.inicio = Nd\n",
        "\n",
        "print(\"O tamanho da lista: \", TamanhoLista(lista))"
      ],
      "metadata": {
        "colab": {
          "base_uri": "https://localhost:8080/"
        },
        "id": "DbELik9U_8kn",
        "outputId": "c092f19c-a84d-4837-86f1-c2f6cc0bfe04"
      },
      "execution_count": null,
      "outputs": [
        {
          "output_type": "stream",
          "name": "stdout",
          "text": [
            "O tamanho da lista:  1\n"
          ]
        }
      ]
    },
    {
      "cell_type": "markdown",
      "source": [
        "#**Criação da Função Adiciona_Inicio**"
      ],
      "metadata": {
        "id": "C1Zbm-5jCElT"
      }
    },
    {
      "cell_type": "code",
      "source": [
        "#Código em Python\n",
        "\n",
        "#Método que Adiciona um elemento no inicio da lista\n",
        "def Adiciona_Inicio(self, Nd):\n",
        "\n",
        "# Cria o nodo com o 1 elemento da lista\n",
        "    atual = self.inicio\n",
        "\n",
        "#Atribui ao novo nodo o primeiro elemento da lista\n",
        "    Nd.proximo = atual\n",
        "\n",
        "#Atualiza o próximo elemento da lista como sendo o novo elemento\n",
        "    self.inicio = Nd\n",
        "\n",
        "# Programa Pricipal de teste\n",
        "lista = ListaEncadeada()\n",
        "\n",
        "Nd = Nodo(\"A\")\n",
        "Adiciona_Inicio(lista, Nd)\n",
        "print(\"lista: \", lista)\n",
        "\n",
        "Nd2 = Nodo(\"B\")\n",
        "Adiciona_Inicio(lista, Nd2)\n",
        "print(\"lista: \", lista)"
      ],
      "metadata": {
        "colab": {
          "base_uri": "https://localhost:8080/"
        },
        "id": "BDV8e6kmBy1N",
        "outputId": "8cc31f13-4bde-495d-8059-ec37a85ce0d5"
      },
      "execution_count": null,
      "outputs": [
        {
          "output_type": "stream",
          "name": "stdout",
          "text": [
            "lista:  [A -> None]\n",
            "lista:  [B -> A -> None]\n"
          ]
        }
      ]
    },
    {
      "cell_type": "markdown",
      "source": [
        "#**Criação da função Adiciona_Fim**"
      ],
      "metadata": {
        "id": "lsYLbkZvDd0p"
      }
    },
    {
      "cell_type": "code",
      "source": [
        "#Código em Python\n",
        "\n",
        "def Adiciona_Fim(self, item):\n",
        "\n",
        "#Verifica se a lista não esta vazia para percorrer, pois,\n",
        "#se estiver, irá adicionar no inicio\n",
        "    if self.inicio:\n",
        "      aux = self.inicio\n",
        "#Percorre a lista até o último elemento\n",
        "      while (aux.proximo):\n",
        "          aux = aux.proximo\n",
        "#Quando sair do laço é porque chegou no último elemento; logo, atualiza o\n",
        "#último elemento a receber como próximo o novo elemento\n",
        "      aux.proximo = item\n",
        "#Como a lista está vazia, adiciona no ínicio da lista\n",
        "    else:\n",
        "        self.inicio = item\n",
        "\n",
        "# Programa Principal de teste\n",
        "lista = ListaEncadeada()\n",
        "\n",
        "Nd = Nodo(\"A\")\n",
        "Adiciona_Fim(lista,Nd)\n",
        "print(\"lista: \", lista)\n",
        "\n",
        "Nd2 = Nodo(\"B\")\n",
        "Adiciona_Fim(lista,Nd2)\n",
        "print(\"lista: \", lista)\n",
        "\n",
        "Nd3 = Nodo(\"C\")\n",
        "Adiciona_Fim(lista,Nd3)\n",
        "print(\"lista: \", lista)"
      ],
      "metadata": {
        "colab": {
          "base_uri": "https://localhost:8080/"
        },
        "id": "uyXK9cBaDVQ5",
        "outputId": "f2af576a-cc53-4f17-d08e-74ef2009e01e"
      },
      "execution_count": null,
      "outputs": [
        {
          "output_type": "stream",
          "name": "stdout",
          "text": [
            "lista:  [A -> None]\n",
            "lista:  [A -> B -> None]\n",
            "lista:  [A -> B -> C -> None]\n"
          ]
        }
      ]
    },
    {
      "cell_type": "markdown",
      "source": [
        "#**Criação da função Adiciona_Pos**"
      ],
      "metadata": {
        "id": "plLcqbddGc4N"
      }
    },
    {
      "cell_type": "code",
      "source": [
        "#Código em Python\n",
        "\n",
        "def Adiciona_Posicao(self,item,pos):\n",
        "    atual = self.inicio\n",
        "    pos_atual = 0\n",
        "\n",
        "#Percorre até o final da lista\n",
        "    while atual.proximo != None:\n",
        "\n",
        "#Verifica se a posição atual é anterior à posição desejada\n",
        "        if pos_atual == (pos-1):\n",
        "#Realiza a troca dos ponteiro se insere o novo elemento\n",
        "            pointer = atual\n",
        "            item.proximo = pointer.proximo\n",
        "            pointer.proximo = item\n",
        "        else:\n",
        "            atual = atual.proximo\n",
        "\n",
        "        pos_atual =+ 1\n",
        "\n",
        "# Programa Principal de teste\n",
        "lista = ListaEncadeada()\n",
        "\n",
        "Nd = Nodo(\"A\")\n",
        "Adiciona_Inicio(lista,Nd)\n",
        "print(\"lista: \", lista)\n",
        "\n",
        "Nd2 = Nodo(\"B\")\n",
        "Adiciona_Inicio(lista,Nd2)\n",
        "print(\"lista: \", lista)\n",
        "\n",
        "Nd3 = Nodo(\"C\")\n",
        "Adiciona_Posicao(lista,Nd3,1)\n",
        "print(\"lista: \", lista)"
      ],
      "metadata": {
        "colab": {
          "base_uri": "https://localhost:8080/"
        },
        "id": "rmvzVRdgFvDN",
        "outputId": "6f238a32-f4c3-4ef5-f208-3c52c2e16932"
      },
      "execution_count": null,
      "outputs": [
        {
          "output_type": "stream",
          "name": "stdout",
          "text": [
            "lista:  [A -> None]\n",
            "lista:  [B -> A -> None]\n",
            "lista:  [B -> C -> A -> None]\n"
          ]
        }
      ]
    },
    {
      "cell_type": "markdown",
      "source": [
        "#**Criação da função Remove_Pos**"
      ],
      "metadata": {
        "id": "L5dXtAO4MSQb"
      }
    },
    {
      "cell_type": "code",
      "source": [
        "#Código em Python\n",
        "\n",
        "def Remove_Pos(self,pos):\n",
        "    atual = self.inicio\n",
        "    pos_atual = 0\n",
        "\n",
        "#Verifica se a posição a ser removida é a primeira;\n",
        "#se positivo, atualiza o elemento de inicio da lista.\n",
        "\n",
        "    if pos_atual == pos:\n",
        "        self.inicio = atual.proximo\n",
        "\n",
        "#Se a posição a ser removida não é a primeira, percorre a lista até\n",
        "#achar a posição anterior à desejada para a troca dos ponteiros.\n",
        "    else:\n",
        "        while atual.proximo != None:\n",
        "\n",
        "            if pos_atual == (pos-1):\n",
        "                next = atual.proximo\n",
        "                atual.proximo = next.proximo\n",
        "            else:\n",
        "                atual = atual.proximo\n",
        "\n",
        "            pos_atual =+ 1\n",
        "\n",
        "# Programa Principal de teste\n",
        "lista = ListaEncadeada()\n",
        "\n",
        "Nd = Nodo(\"A\")\n",
        "Adiciona_Fim(lista,Nd)\n",
        "print(\"lista: \", lista)\n",
        "\n",
        "Nd2 = Nodo(\"B\")\n",
        "Adiciona_Fim(lista,Nd2)\n",
        "print(\"lista: \", lista)\n",
        "\n",
        "Nd3 = Nodo(\"C\")\n",
        "Adiciona_Fim(lista,Nd3)\n",
        "print(\"lista: \", lista)\n",
        "\n",
        "Remove_Pos(lista,2)\n",
        "print(\"lista: \", lista)\n",
        "\n",
        "Remove_Pos(lista,0)\n",
        "print(\"lista: \", lista)"
      ],
      "metadata": {
        "colab": {
          "base_uri": "https://localhost:8080/"
        },
        "id": "VmTnCqK5IUah",
        "outputId": "5d1dfb3e-1c8d-4eae-f8ec-2d60d23d4b60"
      },
      "execution_count": null,
      "outputs": [
        {
          "output_type": "stream",
          "name": "stdout",
          "text": [
            "lista:  [A -> None]\n",
            "lista:  [A -> B -> None]\n",
            "lista:  [A -> B -> C -> None]\n",
            "lista:  [A -> B -> None]\n",
            "lista:  [B -> None]\n"
          ]
        }
      ]
    },
    {
      "cell_type": "markdown",
      "source": [
        "#**Criação da função Remove_Inicio**"
      ],
      "metadata": {
        "id": "M9jLoSH8SyfW"
      }
    },
    {
      "cell_type": "code",
      "source": [
        "#Código em Python\n",
        "\n",
        "def Remove_Inicio(self):\n",
        "#Realiza a atribuição do inicio da Lista para um elemento Nodo\n",
        "    atual = self.inicio\n",
        "#Informa para a lista que o seu primeiro elemento é o elemento\n",
        "#posterior ao elemento atribuido anteriormente\n",
        "    self.inicio = atual.proximo\n",
        "\n",
        "# Programa Principal de teste\n",
        "lista = ListaEncadeada()\n",
        "\n",
        "Nd = Nodo(\"A\")\n",
        "Adiciona_Fim(lista,Nd)\n",
        "print(\"lista: \", lista)\n",
        "\n",
        "Nd2 = Nodo(\"B\")\n",
        "Adiciona_Fim(lista,Nd2)\n",
        "print(\"lista: \", lista)\n",
        "\n",
        "Nd3 = Nodo(\"C\")\n",
        "Adiciona_Fim(lista,Nd3)\n",
        "print(\"lista: \", lista)\n",
        "\n",
        "Remove_Inicio(lista)\n",
        "print(\"lista: \", lista)\n",
        "\n",
        "Remove_Inicio(lista)\n",
        "print(\"lista: \", lista)\n",
        "\n",
        "Remove_Inicio(lista)\n",
        "print(\"lista: \", lista)"
      ],
      "metadata": {
        "colab": {
          "base_uri": "https://localhost:8080/"
        },
        "id": "ulHl3wGtSbnf",
        "outputId": "a00e0ef6-7c0a-4724-fe0f-983c679fe437"
      },
      "execution_count": null,
      "outputs": [
        {
          "output_type": "stream",
          "name": "stdout",
          "text": [
            "lista:  [A -> None]\n",
            "lista:  [A -> B -> None]\n",
            "lista:  [A -> B -> C -> None]\n",
            "lista:  [B -> C -> None]\n",
            "lista:  [C -> None]\n",
            "lista:  [None]\n"
          ]
        }
      ]
    },
    {
      "cell_type": "markdown",
      "source": [
        "#**Criação da função Remove_Fim**"
      ],
      "metadata": {
        "id": "LTlv3nrLW3ZB"
      }
    },
    {
      "cell_type": "code",
      "source": [
        "#Código em Python\n",
        "\n",
        "def Remove_Ultimo(self):\n",
        "    atual = self.inicio\n",
        "\n",
        "#Percorre toda a lista de elementos\n",
        "    while atual.proximo != None:\n",
        "#atribui o próximo elemento a uma variável temporária\n",
        "        proximo = atual.proximo\n",
        "\n",
        "#Verifica se a variável temporária não possui nodo posterior;\n",
        "#se positivo, ele é o último elemento\n",
        "        if proximo.proximo == None:\n",
        "#Atualiza o elemento anterior ao temporário com o seu próximo Nulo.\n",
        "            atual.proximo = None\n",
        "        else:\n",
        "            atual = atual.proximo\n",
        "\n",
        "# Programa Principal de teste\n",
        "lista = ListaEncadeada()\n",
        "\n",
        "Nd = Nodo(\"A\")\n",
        "Adiciona_Fim(lista,Nd)\n",
        "print(\"lista: \", lista)\n",
        "\n",
        "Nd2 = Nodo(\"B\")\n",
        "Adiciona_Fim(lista,Nd2)\n",
        "print(\"lista: \", lista)\n",
        "\n",
        "Nd3 = Nodo(\"C\")\n",
        "Adiciona_Fim(lista,Nd3)\n",
        "print(\"lista: \", lista)\n",
        "\n",
        "Remove_Ultimo(lista)\n",
        "print(\"lista: \", lista)"
      ],
      "metadata": {
        "colab": {
          "base_uri": "https://localhost:8080/"
        },
        "id": "F-MJJC_9W8uZ",
        "outputId": "b87e0a99-07be-47f0-9ec1-0d388fb6d724"
      },
      "execution_count": null,
      "outputs": [
        {
          "output_type": "stream",
          "name": "stdout",
          "text": [
            "lista:  [A -> None]\n",
            "lista:  [A -> B -> None]\n",
            "lista:  [A -> B -> C -> None]\n",
            "lista:  [A -> B -> None]\n"
          ]
        }
      ]
    },
    {
      "cell_type": "markdown",
      "source": [
        "#**Criação da função Ocorrência**"
      ],
      "metadata": {
        "id": "mCtxQtOpUc98"
      }
    },
    {
      "cell_type": "code",
      "source": [
        "#Código em Python\n",
        "\n",
        "def Ocorrencia(self,dado):\n",
        "    atual = self.inicio\n",
        "    total_ocorrencia = 0\n",
        "\n",
        "#Percorre toda a lista em busca do elemento\n",
        "    while atual != None:\n",
        "#Caso o elemento seja encontrado, deverá adicionar +1 no contador\n",
        "        if atual.conteudo == dado:\n",
        "            total_ocorrencia = total_ocorrencia + 1\n",
        "            atual = atual.proximo\n",
        "        else:\n",
        "            atual = atual.proximo\n",
        "    return total_ocorrencia\n",
        "\n",
        "# Programa Principal de teste\n",
        "lista = ListaEncadeada()\n",
        "\n",
        "Nd = Nodo(\"A\")\n",
        "Adiciona_Fim(lista,Nd)\n",
        "print(\"lista: \", lista)\n",
        "\n",
        "Nd2 = Nodo(\"B\")\n",
        "Adiciona_Fim(lista,Nd2)\n",
        "print(\"lista: \", lista)\n",
        "\n",
        "Nd3 = Nodo(\"A\")\n",
        "Adiciona_Fim(lista,Nd3)\n",
        "print(\"lista: \", lista)\n",
        "\n",
        "print(\"Ocorrências de letra A: \", Ocorrencia(lista, \"A\"))"
      ],
      "metadata": {
        "colab": {
          "base_uri": "https://localhost:8080/"
        },
        "id": "VipZeQWFUXzE",
        "outputId": "4c7456fa-68c6-4bfd-ea46-812d26b76a6d"
      },
      "execution_count": null,
      "outputs": [
        {
          "output_type": "stream",
          "name": "stdout",
          "text": [
            "lista:  [A -> None]\n",
            "lista:  [A -> B -> None]\n",
            "lista:  [A -> B -> A -> None]\n",
            "Ocorrências de letra A:  2\n"
          ]
        }
      ]
    }
  ]
}