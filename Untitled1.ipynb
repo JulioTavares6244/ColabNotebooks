{
  "nbformat": 4,
  "nbformat_minor": 0,
  "metadata": {
    "colab": {
      "provenance": []
    },
    "kernelspec": {
      "name": "python3",
      "display_name": "Python 3"
    },
    "language_info": {
      "name": "python"
    }
  },
  "cells": [
    {
      "cell_type": "code",
      "execution_count": null,
      "metadata": {
        "id": "bFaJ0M14Svm_"
      },
      "outputs": [],
      "source": [
        "class Pessoa:\n",
        "  def __init__(self, nome, idade):\n",
        "    self.nome = nome\n",
        "    self.idade = nome\n",
        "\n",
        "  def setNome(self, nome):\n",
        "    self.nome = nome\n",
        "\n",
        "  def setIdade(self, idade):\n",
        "    self.idade = idade\n",
        "\n",
        "  def getNome(self, nome):\n",
        "    return self.nome\n",
        "\n",
        "  def getIdade(self, idade):\n",
        "    return self.idade"
      ]
    },
    {
      "cell_type": "code",
      "source": [
        "a = Pessoa(nome='Yahushuah', idade=33.5)\n",
        "\n",
        "print(a.getNome)\n",
        "print(a.getIdade)"
      ],
      "metadata": {
        "colab": {
          "base_uri": "https://localhost:8080/"
        },
        "id": "EKY5ZdeeVOl8",
        "outputId": "ce533fb7-2418-4311-de98-f621f6f448b1"
      },
      "execution_count": null,
      "outputs": [
        {
          "output_type": "stream",
          "name": "stdout",
          "text": [
            "<bound method Pessoa.getNome of <__main__.Pessoa object at 0x7fdd89b071d0>>\n",
            "<bound method Pessoa.getIdade of <__main__.Pessoa object at 0x7fdd89b071d0>>\n"
          ]
        }
      ]
    },
    {
      "cell_type": "code",
      "source": [
        "display(a)"
      ],
      "metadata": {
        "colab": {
          "base_uri": "https://localhost:8080/",
          "height": 34
        },
        "id": "S6QMHYqaVuyL",
        "outputId": "e500cf72-5e79-49ae-ebfc-b3c3ebf74686"
      },
      "execution_count": null,
      "outputs": [
        {
          "output_type": "display_data",
          "data": {
            "text/plain": [
              "<__main__.Pessoa at 0x7fdd89b071d0>"
            ]
          },
          "metadata": {}
        }
      ]
    },
    {
      "cell_type": "code",
      "source": [
        "from collections import deque\n",
        "d = deque('ghi')\n",
        "for elem in d:\n",
        "  print(elem.upper())"
      ],
      "metadata": {
        "colab": {
          "base_uri": "https://localhost:8080/"
        },
        "id": "Qnv1BH5TcXF2",
        "outputId": "f8ad17f3-2885-4dfa-bb03-e593a3d88647"
      },
      "execution_count": null,
      "outputs": [
        {
          "output_type": "stream",
          "name": "stdout",
          "text": [
            "G\n",
            "H\n",
            "I\n"
          ]
        }
      ]
    },
    {
      "cell_type": "code",
      "source": [
        "d.append('j')\n",
        "d.appendleft('f')\n",
        "d"
      ],
      "metadata": {
        "colab": {
          "base_uri": "https://localhost:8080/"
        },
        "id": "RMDyPR08cron",
        "outputId": "0be5fc50-66f0-46de-d6d0-f8683643705c"
      },
      "execution_count": null,
      "outputs": [
        {
          "output_type": "execute_result",
          "data": {
            "text/plain": [
              "deque(['f', 'g', 'h', 'i', 'j'])"
            ]
          },
          "metadata": {},
          "execution_count": 4
        }
      ]
    },
    {
      "cell_type": "code",
      "source": [
        "d.pop()\n",
        "d.popleft()\n",
        "list(d)"
      ],
      "metadata": {
        "colab": {
          "base_uri": "https://localhost:8080/"
        },
        "id": "rEp60RJPc5Ca",
        "outputId": "3f75fd7c-f120-44af-82ae-9ec6e1d740fa"
      },
      "execution_count": null,
      "outputs": [
        {
          "output_type": "execute_result",
          "data": {
            "text/plain": [
              "['g', 'h', 'i']"
            ]
          },
          "metadata": {},
          "execution_count": 5
        }
      ]
    },
    {
      "cell_type": "code",
      "source": [
        "d[0]"
      ],
      "metadata": {
        "colab": {
          "base_uri": "https://localhost:8080/",
          "height": 36
        },
        "id": "6bazXgt1dHcR",
        "outputId": "20457d8f-6585-4784-de7a-612d1adc3f05"
      },
      "execution_count": null,
      "outputs": [
        {
          "output_type": "execute_result",
          "data": {
            "text/plain": [
              "'g'"
            ],
            "application/vnd.google.colaboratory.intrinsic+json": {
              "type": "string"
            }
          },
          "metadata": {},
          "execution_count": 6
        }
      ]
    },
    {
      "cell_type": "code",
      "source": [
        "d[-1]"
      ],
      "metadata": {
        "colab": {
          "base_uri": "https://localhost:8080/",
          "height": 36
        },
        "id": "qPsnTW9VdNWi",
        "outputId": "9947b4d8-3ff8-4bd4-89a3-ed72460d24fc"
      },
      "execution_count": null,
      "outputs": [
        {
          "output_type": "execute_result",
          "data": {
            "text/plain": [
              "'i'"
            ],
            "application/vnd.google.colaboratory.intrinsic+json": {
              "type": "string"
            }
          },
          "metadata": {},
          "execution_count": 7
        }
      ]
    },
    {
      "cell_type": "code",
      "source": [
        "list(reversed(d))"
      ],
      "metadata": {
        "colab": {
          "base_uri": "https://localhost:8080/"
        },
        "id": "0rVPmYxGdPpB",
        "outputId": "80e79c63-5f33-4cac-d677-89980ca056c8"
      },
      "execution_count": null,
      "outputs": [
        {
          "output_type": "execute_result",
          "data": {
            "text/plain": [
              "['i', 'h', 'g']"
            ]
          },
          "metadata": {},
          "execution_count": 8
        }
      ]
    },
    {
      "cell_type": "code",
      "source": [
        "'h' in d"
      ],
      "metadata": {
        "colab": {
          "base_uri": "https://localhost:8080/"
        },
        "id": "bTN7Ax5pdWPc",
        "outputId": "926d3907-5c41-4a57-e5fe-5ad20488f4cf"
      },
      "execution_count": null,
      "outputs": [
        {
          "output_type": "execute_result",
          "data": {
            "text/plain": [
              "True"
            ]
          },
          "metadata": {},
          "execution_count": 9
        }
      ]
    },
    {
      "cell_type": "code",
      "source": [
        "d.extend('jkl')\n",
        "d"
      ],
      "metadata": {
        "colab": {
          "base_uri": "https://localhost:8080/"
        },
        "id": "IevPC84idcPI",
        "outputId": "e2111026-62c6-45d5-cbfa-081ff8144e88"
      },
      "execution_count": null,
      "outputs": [
        {
          "output_type": "execute_result",
          "data": {
            "text/plain": [
              "deque(['g', 'h', 'i', 'j', 'k', 'l'])"
            ]
          },
          "metadata": {},
          "execution_count": 10
        }
      ]
    },
    {
      "cell_type": "code",
      "source": [
        "d.rotate(1)\n",
        "d"
      ],
      "metadata": {
        "colab": {
          "base_uri": "https://localhost:8080/"
        },
        "id": "IlPSRRYTdiWh",
        "outputId": "b72b727f-2ef7-4530-c1f9-50e6ebc565d2"
      },
      "execution_count": null,
      "outputs": [
        {
          "output_type": "execute_result",
          "data": {
            "text/plain": [
              "deque(['l', 'g', 'h', 'i', 'j', 'k'])"
            ]
          },
          "metadata": {},
          "execution_count": 13
        }
      ]
    },
    {
      "cell_type": "code",
      "source": [
        "d.rotate(-1)\n",
        "d"
      ],
      "metadata": {
        "colab": {
          "base_uri": "https://localhost:8080/"
        },
        "id": "bJyy2q3Tdrrv",
        "outputId": "a4d3d4a9-52ec-499a-adea-1b456ad83553"
      },
      "execution_count": null,
      "outputs": [
        {
          "output_type": "execute_result",
          "data": {
            "text/plain": [
              "deque(['g', 'h', 'i', 'j', 'k', 'l'])"
            ]
          },
          "metadata": {},
          "execution_count": 14
        }
      ]
    },
    {
      "cell_type": "code",
      "source": [
        "deque(reversed(d))"
      ],
      "metadata": {
        "colab": {
          "base_uri": "https://localhost:8080/"
        },
        "id": "HKbEZB63d0lx",
        "outputId": "d14dee0a-7862-4504-dac0-d81c25b6586d"
      },
      "execution_count": null,
      "outputs": [
        {
          "output_type": "execute_result",
          "data": {
            "text/plain": [
              "deque(['l', 'k', 'j', 'i', 'h', 'g'])"
            ]
          },
          "metadata": {},
          "execution_count": 15
        }
      ]
    },
    {
      "cell_type": "code",
      "source": [
        "d.clear()"
      ],
      "metadata": {
        "id": "5xCjGC04d-M7"
      },
      "execution_count": null,
      "outputs": []
    },
    {
      "cell_type": "code",
      "source": [
        "d.pop()"
      ],
      "metadata": {
        "colab": {
          "base_uri": "https://localhost:8080/",
          "height": 165
        },
        "id": "KR4Z1p_jeDy4",
        "outputId": "d437f387-cdc2-4362-a5e1-d8e74431a6dc"
      },
      "execution_count": null,
      "outputs": [
        {
          "output_type": "error",
          "ename": "IndexError",
          "evalue": "ignored",
          "traceback": [
            "\u001b[0;31m---------------------------------------------------------------------------\u001b[0m",
            "\u001b[0;31mIndexError\u001b[0m                                Traceback (most recent call last)",
            "\u001b[0;32m<ipython-input-17-663961784a31>\u001b[0m in \u001b[0;36m<module>\u001b[0;34m\u001b[0m\n\u001b[0;32m----> 1\u001b[0;31m \u001b[0md\u001b[0m\u001b[0;34m.\u001b[0m\u001b[0mpop\u001b[0m\u001b[0;34m(\u001b[0m\u001b[0;34m)\u001b[0m\u001b[0;34m\u001b[0m\u001b[0;34m\u001b[0m\u001b[0m\n\u001b[0m",
            "\u001b[0;31mIndexError\u001b[0m: pop from an empty deque"
          ]
        }
      ]
    },
    {
      "cell_type": "code",
      "source": [
        "d.extendleft('abc')\n",
        "d"
      ],
      "metadata": {
        "colab": {
          "base_uri": "https://localhost:8080/"
        },
        "id": "UMNtrW9FeGci",
        "outputId": "9bf9cb40-4eeb-4d03-9624-d4fb52225714"
      },
      "execution_count": null,
      "outputs": [
        {
          "output_type": "execute_result",
          "data": {
            "text/plain": [
              "deque(['c', 'b', 'a'])"
            ]
          },
          "metadata": {},
          "execution_count": 18
        }
      ]
    },
    {
      "cell_type": "code",
      "source": [
        "numeros = [0,2,3,4,5,7]\n",
        "pares = []\n",
        "for numero in numeros:\n",
        "  if numero % 2 == 0:\n",
        "    pares.append(numero)\n",
        "for par in pares:\n",
        "  print(par)"
      ],
      "metadata": {
        "id": "a3aDXi6AeP0v",
        "colab": {
          "base_uri": "https://localhost:8080/"
        },
        "outputId": "7500b3bb-5370-4dac-d2ba-aee41bca1b6b"
      },
      "execution_count": null,
      "outputs": [
        {
          "output_type": "stream",
          "name": "stdout",
          "text": [
            "0\n",
            "2\n",
            "4\n"
          ]
        }
      ]
    },
    {
      "cell_type": "code",
      "source": [
        "#numeros = [0, 2, 3, 4, 5, 7]\n",
        "#pares = filter(lambda valor: valor % 2 == 0, numeros)\n",
        "#for par in pares:\n",
        "# print(par)\n",
        "\n",
        "numeros = [0,2,3,4,5,7]\n",
        "pares = filter(lambda valor: valor % 2 == 0, numeros)\n",
        "for par in pares:\n",
        "  print(par)"
      ],
      "metadata": {
        "colab": {
          "base_uri": "https://localhost:8080/"
        },
        "id": "desdQHnwfPm8",
        "outputId": "5fb6674d-17b1-4295-f973-37ab9208c00b"
      },
      "execution_count": null,
      "outputs": [
        {
          "output_type": "stream",
          "name": "stdout",
          "text": [
            "0\n",
            "2\n",
            "4\n"
          ]
        }
      ]
    },
    {
      "cell_type": "code",
      "source": [
        "lista = [1,2.7,True,[4],{'key':5},'a']\n",
        "for i in lista:\n",
        "  print(type(i))"
      ],
      "metadata": {
        "colab": {
          "base_uri": "https://localhost:8080/"
        },
        "id": "mCYRoTeW6Rl5",
        "outputId": "ce313684-8c25-4572-9a09-bdcead0cfbf6"
      },
      "execution_count": null,
      "outputs": [
        {
          "output_type": "stream",
          "name": "stdout",
          "text": [
            "<class 'int'>\n",
            "<class 'float'>\n",
            "<class 'bool'>\n",
            "<class 'list'>\n",
            "<class 'dict'>\n",
            "<class 'str'>\n"
          ]
        }
      ]
    },
    {
      "cell_type": "code",
      "source": [
        "numbers = [6, 5, 3, 8, 4, 2, 5, 4, 11]\n",
        "\n",
        "num = 0\n",
        "\n",
        "for val in numbers:\n",
        "\n",
        "   num = num+val\n",
        "\n",
        "print(\"The num is\", num)"
      ],
      "metadata": {
        "id": "3FQpZJKWL3QT",
        "outputId": "1a88f76b-d337-42f5-833d-555064cfb042",
        "colab": {
          "base_uri": "https://localhost:8080/"
        }
      },
      "execution_count": null,
      "outputs": [
        {
          "output_type": "stream",
          "name": "stdout",
          "text": [
            "The num is 48\n"
          ]
        }
      ]
    }
  ]
}