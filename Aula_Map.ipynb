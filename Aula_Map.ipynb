{
  "nbformat": 4,
  "nbformat_minor": 0,
  "metadata": {
    "colab": {
      "provenance": []
    },
    "kernelspec": {
      "name": "python3",
      "display_name": "Python 3"
    },
    "language_info": {
      "name": "python"
    }
  },
  "cells": [
    {
      "cell_type": "code",
      "execution_count": null,
      "metadata": {
        "colab": {
          "base_uri": "https://localhost:8080/"
        },
        "id": "KhXJyP293eIK",
        "outputId": "a62c62d2-a2b3-40fa-e85d-f6eff03097ed"
      },
      "outputs": [
        {
          "output_type": "stream",
          "name": "stdout",
          "text": [
            "[1, 4, 9, 16, 25]\n"
          ]
        }
      ],
      "source": [
        "numeros = [1, 2, 3, 4, 5]\n",
        "indices = (2, 2, 2, 2, 2)\n",
        "resultado = map(pow, numeros, indices)\n",
        "print(list(resultado))"
      ]
    },
    {
      "cell_type": "code",
      "source": [
        "resultado = pow(3, 2)\n",
        "print(resultado)"
      ],
      "metadata": {
        "colab": {
          "base_uri": "https://localhost:8080/"
        },
        "id": "1vdYGSRu39WV",
        "outputId": "3d7ff236-a057-440d-81ca-18605c2ab990"
      },
      "execution_count": null,
      "outputs": [
        {
          "output_type": "stream",
          "name": "stdout",
          "text": [
            "9\n"
          ]
        }
      ]
    },
    {
      "cell_type": "code",
      "source": [
        "def capitaliza(n):\n",
        "  return n.capitalize()"
      ],
      "metadata": {
        "id": "4mvf8t_FEc4w"
      },
      "execution_count": null,
      "outputs": []
    },
    {
      "cell_type": "code",
      "source": [
        "animais = 'cão', 'gata', 'pássaro',\n",
        "animais_c = map(capitaliza, animais)\n",
        "print(tuple(animais_c))"
      ],
      "metadata": {
        "colab": {
          "base_uri": "https://localhost:8080/"
        },
        "id": "PRWJQuwiEqE4",
        "outputId": "8472dfc7-d651-427f-cb48-5d16b1f76d18"
      },
      "execution_count": null,
      "outputs": [
        {
          "output_type": "stream",
          "name": "stdout",
          "text": [
            "('Cão', 'Gata', 'Pássaro')\n"
          ]
        }
      ]
    },
    {
      "cell_type": "code",
      "source": [
        "import random\n",
        "\n",
        "total_questoes = 10\n",
        "alternativas = {0:'a', 1:'b', 2:'c', 3:'d', 4:'e'}\n",
        "candidatos = {0:'Marilda', 1:'Marcelo', 2:'Matheus'}\n",
        "def simular_questoes(grade, total):\n",
        "  global alternativas\n",
        "\n",
        "  n = 0\n",
        "  while n < total:\n",
        "    n += 1\n",
        "    resposta = random.randint(0, 4)\n",
        "    grade.append(alternativas[resposta])\n",
        "  return grade\n",
        "def verificar_acertos(gabarito, candidatos):\n",
        "  if (gabarito == candidatos):\n",
        "    return '1'\n",
        "  else:\n",
        "    return '0'\n",
        "gabarito = []\n",
        "gabarito = simular_questoes(gabarito, total_questoes)\n",
        "correcoes = []\n",
        "maior_acerto = 0\n",
        "total_candidatos = len(candidatos)\n",
        "for indice in range(total_candidatos):\n",
        " print(f'Gabarito:{gabarito}')\n",
        "\n",
        " candidato = []\n",
        " candidato = simular_questoes(candidato, total_questoes)\n",
        " print(f'{candidatos[indice]}: {candidato}')\n",
        "\n",
        " correcao = tuple(map(verificar_acertos, gabarito, candidato))\n",
        "\n",
        " acertos = correcao.count('1')\n",
        "print(f'{candidatos[indice]}: {correcao} = {acertos} acertos.')\n",
        "if acertos > maior_acerto:\n",
        "      maior_acerto = acertos\n",
        "vencedor = candidatos[indice]\n",
        "print(\"\")\n",
        "\n",
        "print(f'O vencedor é {vencedor} com {maior_acerto} acertos.')"
      ],
      "metadata": {
        "colab": {
          "base_uri": "https://localhost:8080/"
        },
        "id": "-PHFg-fWF0B8",
        "outputId": "6407d539-5468-4ea0-d555-6871e2988916"
      },
      "execution_count": null,
      "outputs": [
        {
          "output_type": "stream",
          "name": "stdout",
          "text": [
            "Gabarito:['c', 'c', 'e', 'd', 'a', 'e', 'd', 'e', 'c', 'c']\n",
            "Marilda: ['b', 'c', 'd', 'b', 'a', 'e', 'e', 'd', 'c', 'a']\n",
            "Gabarito:['c', 'c', 'e', 'd', 'a', 'e', 'd', 'e', 'c', 'c']\n",
            "Marcelo: ['e', 'a', 'a', 'c', 'e', 'e', 'a', 'e', 'b', 'd']\n",
            "Gabarito:['c', 'c', 'e', 'd', 'a', 'e', 'd', 'e', 'c', 'c']\n",
            "Matheus: ['d', 'a', 'd', 'd', 'a', 'e', 'c', 'a', 'b', 'c']\n",
            "Matheus: ('0', '0', '0', '1', '1', '1', '0', '0', '0', '1') = 4 acertos.\n",
            "\n",
            "O vencedor é Matheus com 4 acertos.\n"
          ]
        }
      ]
    },
    {
      "cell_type": "code",
      "source": [
        "conjunto_a = [1, 2, 4, 3, 5, 1, 6, 23 ,3 ,4 ,2]\n",
        "conjunto_b = set(conjunto_a)\n",
        "conjunto_b.add('errorType')\n",
        "print(conjunto_b)"
      ],
      "metadata": {
        "id": "0JqfH9WzlEcK",
        "colab": {
          "base_uri": "https://localhost:8080/"
        },
        "outputId": "de3b0c60-11b4-4d58-fb96-c0b10c2a43aa"
      },
      "execution_count": null,
      "outputs": [
        {
          "output_type": "stream",
          "name": "stdout",
          "text": [
            "{1, 2, 3, 4, 5, 6, 'errorType', 23}\n"
          ]
        }
      ]
    }
  ]
}