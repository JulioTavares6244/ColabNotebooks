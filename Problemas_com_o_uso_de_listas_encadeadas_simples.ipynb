{
  "nbformat": 4,
  "nbformat_minor": 0,
  "metadata": {
    "colab": {
      "provenance": []
    },
    "kernelspec": {
      "name": "python3",
      "display_name": "Python 3"
    },
    "language_info": {
      "name": "python"
    }
  },
  "cells": [
    {
      "cell_type": "markdown",
      "source": [
        "#**Criação das Classes**"
      ],
      "metadata": {
        "id": "mR_8INAdZ2Yv"
      }
    },
    {
      "cell_type": "code",
      "execution_count": null,
      "metadata": {
        "id": "1jrhEuYJZTaG"
      },
      "outputs": [],
      "source": [
        "#Classe Funcionário\n",
        "class Funcionario:\n",
        "    def __init__(self, Nome= \"indefinido\", Codigo = \"indefinido\", Departamento = \"indefinido\"):\n",
        "        self.Nome = Nome\n",
        "        self.Codigo = Codigo\n",
        "        self.Departamento = Departamento\n",
        "\n",
        "    def __repr__(self):\n",
        "        return '%s -> %s -> %s' % (self.Codigo, self.Departamento, self.Nome)"
      ]
    },
    {
      "cell_type": "code",
      "source": [
        "#Classe Nodo\n",
        "class Nodo:\n",
        "    class Nodo:\n",
        "        def __init__(self, dado=0, proximo_nodo=None):\n",
        "            self.conteudo = dado\n",
        "            self.proximo = proximo_nodo\n",
        "    def __repr__(self):\n",
        "        return '%s -> %s' % (self.conteudo, self.proximo)"
      ],
      "metadata": {
        "id": "iz1O3WGDa1vj"
      },
      "execution_count": null,
      "outputs": []
    },
    {
      "cell_type": "code",
      "source": [
        "#Classe Lista Encadeada\n",
        "\n",
        "class ListaEncadeada:\n",
        "\n",
        "    def __init__(self):\n",
        "        self.inicio = None\n",
        "\n",
        "    def __repr__(self):\n",
        "        return \"[\" + str(self.inicio) + \"]\"\n",
        "\n",
        "    def ListaVazia(self):\n",
        "        if self.inicio == None:\n",
        "            return True\n",
        "        else:\n",
        "            return False\n",
        "\n",
        "    def ImprimeLista(self):\n",
        "        atual = self.inicio\n",
        "\n",
        "        cont = 0\n",
        "        print(\"Inicio da Lista\")\n",
        "        if self.inicio == None:\n",
        "            print(\"Lista Vazia\")\n",
        "        else:\n",
        "            while atual != None:\n",
        "                print(\"Posição: \", cont, atual)\n",
        "                cont =+ 1\n",
        "                atual = atual.proximo\n",
        "        print(\"Final da Lista\")\n",
        "\n",
        "    def Numero_Funcionario(self):\n",
        "        atual = self.inicio\n",
        "        tamanho = 0\n",
        "\n",
        "        if self.inicio == None:\n",
        "            return 0\n",
        "\n",
        "        while atual != None:\n",
        "            tamanho =+ 1\n",
        "            atual = atual.proximo\n",
        "\n",
        "        return tamanho\n",
        "\n",
        "    def NovoFuncionario(self, Nd):\n",
        "\n",
        "    # Cria o nodo com o 1 elemento da Lista\n",
        "        atual = self.inicio\n",
        "    # Atribui ao novo nodo o primeiro elemento da Lista\n",
        "        Nd.proximo = atual\n",
        "    # Atualiza o primeiro elemento da Lista como sendo o novo elemento\n",
        "        self.inicio = Nd\n",
        "\n",
        "    def Remove_Funcionario(self,Func):\n",
        "        atual = self.inicio\n",
        "        pos_atual = 0\n",
        "\n",
        "    #Verifica se a posição a ser removida é a primeira;\n",
        "    #se positivo, atualiza o elemento de inicio da lista.\n",
        "        if atual == Func:\n",
        "            self.inicio = atual.proximo\n",
        "\n",
        "    #Se a posição a ser removida não é a primeira, percorre a lista até achar\n",
        "    #a posição anterior à desejada para a troca dos ponteiros.\n",
        "        else:\n",
        "            atual = atual.proximo"
      ],
      "metadata": {
        "id": "o7sLyORxbnm0"
      },
      "execution_count": null,
      "outputs": []
    },
    {
      "cell_type": "markdown",
      "source": [
        "#Programa Principal de teste"
      ],
      "metadata": {
        "id": "lkdpZJoThl8d"
      }
    },
    {
      "cell_type": "code",
      "source": [
        "#Declarão da Lista vazia\n",
        "lista = ListaEncadeada()\n",
        "\n",
        "#Criação dos nodos do tipo funcionário\n",
        "#Estes nodos poderiam ser oriundos de uma busca do banco ou leituras de\n",
        "#arquivo no qual cada elemento represenra de um nodo do tipo funcionário.\n",
        "\n",
        "F1 = Funcionario(\"Ad01\",\"Joao\",\"eletronicos\")\n",
        "F2 = Funcionario(\"Ad02\",\"Maria\",\"eletronicos\")\n",
        "F3 = Funcionario(\"Ad03\",\"Jose\",\"eletronicos\")\n",
        "F4 = Funcionario(\"Ad04\",\"Lucas\",\"eletronicos\")\n",
        "F5 = Funcionario(\"Ad05\",\"Rodrigo\",\"eletronicos\")\n",
        "\n",
        "#Chamada dos métodos pertencentes à Classe Lista que adiciona os funcionários\n",
        "lista.NovoFuncionario(F1)\n",
        "lista.NovoFuncionario(F2)\n",
        "lista.NovoFuncionario(F3)\n",
        "lista.NovoFuncionario(F4)\n",
        "lista.NovoFuncionario(F5)\n",
        "\n",
        "#Chamada do método de impressão da Lista desenvolvido.\n",
        "lista.ImprimeLista()\n",
        "\n",
        "#Informa o Número de Funcionários\n",
        "print(\"Total de funcionários na empresa: \",lista.Numero_Funcionario())\n",
        "\n",
        "#Remove no meio da Lista\n",
        "\n",
        "lista.Remove_Funcionario(F3)\n",
        "lista.ImprimeLista()\n",
        "print(\"Total de funcionários na empresa: \",lista.Numero_Funcionario())\n",
        "\n",
        "#Remove no Final da Lista\n",
        "\n",
        "lista.Remove_Funcionario(F1)\n",
        "lista.ImprimeLista()\n",
        "print(\"Total de funcionários na empresa: \",lista.Numero_Funcionario())\n",
        "\n",
        "#Remove no Inicio da Lista\n",
        "\n",
        "lista.Remove_Funcionario(F5)\n",
        "lista.ImprimeLista()\n",
        "print(\"Total de funcionários na empresa: \",lista.Numero_Funcionario())"
      ],
      "metadata": {
        "colab": {
          "base_uri": "https://localhost:8080/"
        },
        "id": "vw1rMK-xhk5-",
        "outputId": "d36d4f67-8475-4e23-bd6d-084f66b1ef67"
      },
      "execution_count": null,
      "outputs": [
        {
          "output_type": "stream",
          "name": "stdout",
          "text": [
            "Inicio da Lista\n",
            "Posição:  0 Rodrigo -> eletronicos -> Ad05\n",
            "Posição:  1 Lucas -> eletronicos -> Ad04\n",
            "Posição:  1 Jose -> eletronicos -> Ad03\n",
            "Posição:  1 Maria -> eletronicos -> Ad02\n",
            "Posição:  1 Joao -> eletronicos -> Ad01\n",
            "Final da Lista\n",
            "Total de funcionários na empresa:  1\n",
            "Inicio da Lista\n",
            "Posição:  0 Rodrigo -> eletronicos -> Ad05\n",
            "Posição:  1 Lucas -> eletronicos -> Ad04\n",
            "Posição:  1 Jose -> eletronicos -> Ad03\n",
            "Posição:  1 Maria -> eletronicos -> Ad02\n",
            "Posição:  1 Joao -> eletronicos -> Ad01\n",
            "Final da Lista\n",
            "Total de funcionários na empresa:  1\n",
            "Inicio da Lista\n",
            "Posição:  0 Rodrigo -> eletronicos -> Ad05\n",
            "Posição:  1 Lucas -> eletronicos -> Ad04\n",
            "Posição:  1 Jose -> eletronicos -> Ad03\n",
            "Posição:  1 Maria -> eletronicos -> Ad02\n",
            "Posição:  1 Joao -> eletronicos -> Ad01\n",
            "Final da Lista\n",
            "Total de funcionários na empresa:  1\n",
            "Inicio da Lista\n",
            "Posição:  0 Lucas -> eletronicos -> Ad04\n",
            "Posição:  1 Jose -> eletronicos -> Ad03\n",
            "Posição:  1 Maria -> eletronicos -> Ad02\n",
            "Posição:  1 Joao -> eletronicos -> Ad01\n",
            "Final da Lista\n",
            "Total de funcionários na empresa:  1\n"
          ]
        }
      ]
    }
  ]
}