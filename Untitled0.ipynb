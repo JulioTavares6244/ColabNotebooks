{
  "nbformat": 4,
  "nbformat_minor": 0,
  "metadata": {
    "colab": {
      "provenance": []
    },
    "kernelspec": {
      "name": "python3",
      "display_name": "Python 3"
    },
    "language_info": {
      "name": "python"
    }
  },
  "cells": [
    {
      "cell_type": "code",
      "execution_count": null,
      "metadata": {
        "id": "rz0I7gnNfP7k"
      },
      "outputs": [],
      "source": [
        "class Fila:\n",
        "# Cria uma fila vazia.\n",
        "    def __init__(self):\n",
        "        self._items = list()\n",
        "\n",
        "# Se a fila estiver vazia retorna True, senão retorna False.\n",
        "    def estaVazia(self):\n",
        "        return len(self) == 0\n",
        "\n",
        "# Retorna quantos elementos tem na fila.\n",
        "    def __len__(self):\n",
        "        return len(self._items)\n",
        "\n",
        "# Insere um elemento na fila.\n",
        "    def enfilera(self, item):\n",
        "        self._items.append(item)\n",
        "\n",
        "# Remove e retorna o primeiro elemento da fila.\n",
        "    def desenfilera(self):\n",
        "        assert not self.estaVazia(), \"Fila vazia!\"\n",
        "        return self._items.pop(0)"
      ]
    },
    {
      "cell_type": "code",
      "source": [
        "class FilaMatrizCircular:\n",
        "# Cria uma fila vazia, utilizando a estrutura de uma matriz circular\n",
        "    CAPACIDADE = 10 #limite de capacidade das filas novas\n",
        "\n",
        "    def __init__(self):\n",
        "        self._data = [None] * FilaMatrizCircular.CAPACIDADE\n",
        "        self._tamanho = 0\n",
        "        self._frente = 0\n",
        "\n",
        "# Retorna quantos elementos tem na fila.\n",
        "    def __len__(self):\n",
        "        return self._tamanho\n",
        "\n",
        "# Se a fila estiver vazia retorna True, senão retorna False.\n",
        "    def estaVazia(self):\n",
        "        return self._tamanho == 0\n",
        "\n",
        "# Retorna o primeiro elemento da fila, sem removê-lo\n",
        "    def primeiro(self):\n",
        "        if self.estaVazia():\n",
        "            raise Empty(\"Fila vazia!\")\n",
        "        return self._data[self._frente]\n",
        "\n",
        "# Insere um elemento na fila.\n",
        "    def enfilera(self, e):\n",
        "        if self._tamanho == len(self._data):\n",
        "            self._redimensiona(2*len(self._data)) # duplica o tamanho da matriz\n",
        "        avail = (self._frente + self._tamanho) % len(self._data)\n",
        "        self._data[avail] = e\n",
        "        self._tamanho += 1\n",
        "\n",
        "# Remove e retorna o primeiro elemento da fila.\n",
        "    def desenfilera(self):\n",
        "        if self.estaVazia():\n",
        "            raise Empty(\"Fila vazia!\")\n",
        "        resposta = self._data[self._frente]\n",
        "        self._data[self._frente] = None # help garbage collection\n",
        "        self._frente = (self._frente + 1) % len(self._data)\n",
        "        self._tamanho -= 1\n",
        "        return resposta\n",
        "\n",
        "# Redimensiona a lista, cap >= len(self)\n",
        "    def _redimensiona(self, cap):\n",
        "        antiga = self._data # mantém o registro pra lista existente\n",
        "        self,_data = [None] * cap # aloca uma lista com uma nova capacidade\n",
        "        anda = self._frente\n",
        "        for k in range(self._tamanho): # com base nos elementos existentes\n",
        "            self._data[k] = antiga[anda] # altera os índices\n",
        "            anda = (1 + anda) % len(antiga) # usa o tamanho antigo como módulo\n",
        "        self._frente = 0 # realinha a frente"
      ],
      "metadata": {
        "id": "G5xEsrdjgd0i"
      },
      "execution_count": null,
      "outputs": []
    },
    {
      "cell_type": "code",
      "source": [
        "class FilaListaEncadeada:\n",
        "# Cria uma fila vazia, utilizando a estrutura de uma lista encadeada.\n",
        "    def __init__(self):\n",
        "        self._inicio = None\n",
        "        self._fim = None\n",
        "        self._contador = 0\n",
        "\n",
        "# se a fila estiver vazia retorna True, senão retorna False.\n",
        "    def estaVazia(self):\n",
        "        return self._inicio is None\n",
        "\n",
        "# Retorna quantos elementos tem na fila.\n",
        "    def __len__(self):\n",
        "        return self._contador\n",
        "\n",
        "# Insere um elemento na fila.\n",
        "    def enfilera(self, item):\n",
        "        elemento = _NoFila(item)\n",
        "        if self.estaVazia():\n",
        "            self._inicio = elemento\n",
        "        else:\n",
        "            self._fim = elemento\n",
        "        self._fim = elemento\n",
        "        self._contador += 1\n",
        "\n",
        "# Remove e retorna o primeiro elemento da fila.\n",
        "    def desenfilera(self):\n",
        "        assert not self.estaVazia(), \"Fila vazia!\"\n",
        "        elemento = self._inicio\n",
        "        if self._inicio is self._fim:\n",
        "            self._fim = None\n",
        "\n",
        "            self._inicio = self._inicio.next\n",
        "            self._contador -= 1\n",
        "            return elemento.item\n",
        "\n",
        "# Classe privada para armazenamento de nós da lista encadeada.\n",
        "class _NoFila(object):\n",
        "    def __init__(self, item):\n",
        "        self.item = item\n",
        "        self.next = None"
      ],
      "metadata": {
        "id": "YJ3j7kBtlTce"
      },
      "execution_count": null,
      "outputs": []
    },
    {
      "cell_type": "code",
      "source": [],
      "metadata": {
        "id": "2S-NoFriodDh"
      },
      "execution_count": null,
      "outputs": []
    }
  ]
}