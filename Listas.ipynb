{
  "nbformat": 4,
  "nbformat_minor": 0,
  "metadata": {
    "colab": {
      "provenance": []
    },
    "kernelspec": {
      "name": "python3",
      "display_name": "Python 3"
    },
    "language_info": {
      "name": "python"
    }
  },
  "cells": [
    {
      "cell_type": "code",
      "execution_count": null,
      "metadata": {
        "colab": {
          "base_uri": "https://localhost:8080/"
        },
        "id": "gBsuXKaoyK64",
        "outputId": "6df5723f-39ea-4e7e-e8d1-7812fef0554f"
      },
      "outputs": [
        {
          "output_type": "stream",
          "name": "stdout",
          "text": [
            "2\n"
          ]
        }
      ],
      "source": [
        "# Lista de animais\n",
        "animais = ['Gato','Cachorro','papagaio','Gato']\n",
        "\n",
        "# imprime a nova lista\n",
        "print(animais.count('Gato'))"
      ]
    },
    {
      "cell_type": "code",
      "source": [
        "# Lista de animais\n",
        "animais = ['Gato', 'Cachorro', 'papagaio', 'Gato']\n",
        "\n",
        "# imprime a lista\n",
        "print(animais)\n",
        "\n",
        "# Limpa os elementos da lista\n",
        "animais.clear()\n",
        "\n",
        "# Imprime a lista\n",
        "print(animais)"
      ],
      "metadata": {
        "colab": {
          "base_uri": "https://localhost:8080/"
        },
        "id": "Vk5HC31izKvq",
        "outputId": "24dc3064-0e74-4a6c-b204-0cc7f6b84419"
      },
      "execution_count": null,
      "outputs": [
        {
          "output_type": "stream",
          "name": "stdout",
          "text": [
            "['Gato', 'Cachorro', 'papagaio', 'Gato']\n",
            "[]\n"
          ]
        }
      ]
    },
    {
      "cell_type": "code",
      "source": [
        "# Lista de animais\n",
        "animais = ['Gato', 'Cachorro', 'papagaio']\n",
        "\n",
        "# Adiciona o coelho no final da lista\n",
        "animais.append('coelho')\n",
        "\n",
        "# imprime nova lista\n",
        "print('Atualização da lista: ', animais)"
      ],
      "metadata": {
        "colab": {
          "base_uri": "https://localhost:8080/"
        },
        "id": "slRdwW-mzku5",
        "outputId": "8a0e067a-0714-47c9-9b6a-cbbe33b8cf75"
      },
      "execution_count": null,
      "outputs": [
        {
          "output_type": "stream",
          "name": "stdout",
          "text": [
            "Atualização da lista:  ['Gato', 'Cachorro', 'papagaio', 'coelho']\n"
          ]
        }
      ]
    },
    {
      "cell_type": "code",
      "source": [
        "# Lista de animais\n",
        "animais = ['Gato', 'Cachorro', 'papagaio', 'Gato']\n",
        "\n",
        "# imprime a lista\n",
        "print(animais)\n",
        "\n",
        "# Insere o elemento Rato na posição 1 da lista\n",
        "animais.insert(1,'Rato')\n",
        "\n",
        "# imprime a lista\n",
        "print(animais)"
      ],
      "metadata": {
        "colab": {
          "base_uri": "https://localhost:8080/"
        },
        "id": "GdOAnCrw0E8I",
        "outputId": "5c8c6c16-adde-4efb-ea7b-0020ed41c0dc"
      },
      "execution_count": null,
      "outputs": [
        {
          "output_type": "stream",
          "name": "stdout",
          "text": [
            "['Gato', 'Cachorro', 'papagaio', 'Gato']\n",
            "['Gato', 'Rato', 'Cachorro', 'papagaio', 'Gato']\n"
          ]
        }
      ]
    },
    {
      "cell_type": "code",
      "source": [
        "# Lista de animais\n",
        "animais = ['Gato', 'Cachorro', 'papagaio', 'Gato']\n",
        "\n",
        "# Imprime a lista\n",
        "print(animais)\n",
        "\n",
        "# Remove a primeira ocorrência do elemento Gato na lista\n",
        "animais.remove('Gato')\n",
        "\n",
        "# Imprime a lista\n",
        "print(animais)"
      ],
      "metadata": {
        "colab": {
          "base_uri": "https://localhost:8080/"
        },
        "id": "u741nK474H_K",
        "outputId": "5bae4a95-22da-4f8e-cba9-6fc4aed959c0"
      },
      "execution_count": null,
      "outputs": [
        {
          "output_type": "stream",
          "name": "stdout",
          "text": [
            "['Gato', 'Cachorro', 'papagaio', 'Gato']\n",
            "['Cachorro', 'papagaio', 'Gato']\n"
          ]
        }
      ]
    },
    {
      "cell_type": "code",
      "source": [
        "# Lista de animais\n",
        "animais = ['Gato', 'Cachorro', 'papagaio', 'Gato']\n",
        "\n",
        "# imprime a lista\n",
        "print(animais)\n",
        "\n",
        "# Retorna e imprime a primeira ocorrência do elemento Cachorro\n",
        "print(animais.index('Cachorro'))"
      ],
      "metadata": {
        "colab": {
          "base_uri": "https://localhost:8080/"
        },
        "id": "D3UR9Yzm4wYX",
        "outputId": "b5eeb718-ad4d-408a-ed8e-c58ee397493d"
      },
      "execution_count": null,
      "outputs": [
        {
          "output_type": "stream",
          "name": "stdout",
          "text": [
            "['Gato', 'Cachorro', 'papagaio', 'Gato']\n",
            "1\n"
          ]
        }
      ]
    },
    {
      "cell_type": "code",
      "source": [
        "# Gera uma lista de 5 elementos iniciando em zero com imcremento\n",
        "#padrão +1\n",
        "print(list(range(5)))\n",
        "\n",
        "# Gera uma lista com inicio no elemento 2, final do elemento 20 com\n",
        "#incremento de +3 em cada nodo\n",
        "print(list(range(2, 20, 3)))\n",
        "\n",
        "# Gera uma sequência de 0 a 9\n",
        "print(list(range(10)))\n",
        "\n",
        "# Gera uma sequência de 1 a 11\n",
        "print(list(range(1, 11)))\n",
        "\n",
        "# Gera uma sequência de 0 a 30 com incremento de 5\n",
        "print(list(range(0, 30, 5)))\n",
        "\n",
        "# Gera uma sequência com os 5 primeiro números da tabuada de 3\n",
        "print(list(range(0, 10, 3)))\n",
        "\n",
        "# Gera uma sequência numérica negativa\n",
        "print(list(range(0, -10, -1)))\n",
        "\n",
        "# Gera uma sequência numérica vazia\n",
        "print(list(range(0)))"
      ],
      "metadata": {
        "colab": {
          "base_uri": "https://localhost:8080/"
        },
        "id": "G-WSYxS25U_A",
        "outputId": "4b2367ce-cd2c-469b-ac53-517cd73753ff"
      },
      "execution_count": null,
      "outputs": [
        {
          "output_type": "stream",
          "name": "stdout",
          "text": [
            "[0, 1, 2, 3, 4]\n",
            "[2, 5, 8, 11, 14, 17]\n",
            "[0, 1, 2, 3, 4, 5, 6, 7, 8, 9]\n",
            "[1, 2, 3, 4, 5, 6, 7, 8, 9, 10]\n",
            "[0, 5, 10, 15, 20, 25]\n",
            "[0, 3, 6, 9]\n",
            "[0, -1, -2, -3, -4, -5, -6, -7, -8, -9]\n",
            "[]\n"
          ]
        }
      ]
    },
    {
      "cell_type": "code",
      "source": [],
      "metadata": {
        "id": "z-vx5MP57KBK"
      },
      "execution_count": null,
      "outputs": []
    }
  ]
}