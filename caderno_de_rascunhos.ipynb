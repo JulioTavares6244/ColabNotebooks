{
  "nbformat": 4,
  "nbformat_minor": 0,
  "metadata": {
    "colab": {
      "provenance": []
    },
    "kernelspec": {
      "name": "python3",
      "display_name": "Python 3"
    },
    "language_info": {
      "name": "python"
    }
  },
  "cells": [
    {
      "cell_type": "code",
      "execution_count": null,
      "metadata": {
        "id": "hOV24ZZg_Idk"
      },
      "outputs": [],
      "source": [
        "dados = [45.09,36.27,22.05,51.00,32]"
      ]
    },
    {
      "cell_type": "code",
      "source": [
        "import statistics"
      ],
      "metadata": {
        "id": "vhRgB3CX_dFJ"
      },
      "execution_count": null,
      "outputs": []
    },
    {
      "cell_type": "code",
      "source": [
        "statistics.mean(dados)"
      ],
      "metadata": {
        "colab": {
          "base_uri": "https://localhost:8080/"
        },
        "id": "0wHFEtNN_k7D",
        "outputId": "d3f1cf95-8463-42cf-c3cd-a61535752fd0"
      },
      "execution_count": null,
      "outputs": [
        {
          "output_type": "execute_result",
          "data": {
            "text/plain": [
              "37.282000000000004"
            ]
          },
          "metadata": {},
          "execution_count": 4
        }
      ]
    },
    {
      "cell_type": "markdown",
      "source": [
        "##Algoritmo\n"
      ],
      "metadata": {
        "id": "e8p2oqXVsbBh"
      }
    },
    {
      "cell_type": "code",
      "source": [
        "#Classe Nodo\n",
        "class Nodo:\n",
        "    def __init__(self, codigo=0, proximo_nodo=None):\n",
        "        self.codigo = codigo\n",
        "        self.proximo == proximo+nodo\n",
        "\n",
        "    def __repr__(self):\n",
        "        return '%s -> %s' % (self.codigo, self.proximo)\n",
        "\n",
        "#Classe Lista Encadeada\n",
        "class ListaEncadeada:\n",
        "    def __init__(self):\n",
        "        self.cabeca = None\n",
        "\n",
        "    def __repr__(self):\n",
        "        return \"[\" + str(self.cabeca) + \"]\""
      ],
      "metadata": {
        "id": "Ay9EgNNgspK7"
      },
      "execution_count": null,
      "outputs": []
    },
    {
      "cell_type": "code",
      "source": [
        "#Função que verifica a lista\n",
        "def verifica_vazia(Lista):\n",
        "    if Lista.cabeca == None :\n",
        "        print(\"True\")\n",
        "    else:\n",
        "        print(\"False\")"
      ],
      "metadata": {
        "id": "1m0FpzokvDi8"
      },
      "execution_count": null,
      "outputs": []
    },
    {
      "cell_type": "code",
      "source": [
        "Lista = ListaEncadeada()\n",
        "verifica_vazia(Lista)"
      ],
      "metadata": {
        "colab": {
          "base_uri": "https://localhost:8080/"
        },
        "id": "YwaTU2HGulA9",
        "outputId": "147b3888-3304-4289-ee6f-3c7be31a154e"
      },
      "execution_count": null,
      "outputs": [
        {
          "output_type": "stream",
          "name": "stdout",
          "text": [
            "True\n"
          ]
        }
      ]
    },
    {
      "cell_type": "code",
      "source": [
        "lista = ListaEncadeada()\n",
        "Primeiro = lista.cabeca\n",
        "print(Primeiro)"
      ],
      "metadata": {
        "colab": {
          "base_uri": "https://localhost:8080/"
        },
        "id": "wcBTLjwBvJRr",
        "outputId": "9c27058f-c1dd-4c7e-a093-37afb7a5c4f7"
      },
      "execution_count": null,
      "outputs": [
        {
          "output_type": "stream",
          "name": "stdout",
          "text": [
            "None\n"
          ]
        }
      ]
    },
    {
      "cell_type": "code",
      "source": [
        "def ExisteNodo(self,item):\n",
        "    atual = self.inicio\n",
        "    status = False\n",
        "    while atual != None and not status:\n",
        "        if atual.inf()==item:\n",
        "            status = True\n",
        "        else:\n",
        "            atual = atual.proxNodo()\n",
        "        return status"
      ],
      "metadata": {
        "id": "g9XFD4nnvW1T"
      },
      "execution_count": null,
      "outputs": []
    },
    {
      "cell_type": "code",
      "source": [
        "def inserir(self,item,pos):\n",
        "    atual = self.inicio\n",
        "    pos_atual = 0\n",
        "\n",
        "    while atual.proximo != None:\n",
        "\n",
        "      if pos_atual == (pos-1):\n",
        "        pointer = atual\n",
        "        node = Nodo(item)\n",
        "        node.proximo = pointer.proximo\n",
        "        pointer.proximo = node\n",
        "\n",
        "      else:\n",
        "        atual = atual.rpoximo\n",
        "\n",
        "    pos_atual = pos_atual + 1"
      ],
      "metadata": {
        "id": "FKWz1-QAxQDp"
      },
      "execution_count": null,
      "outputs": []
    },
    {
      "cell_type": "code",
      "source": [
        "lista = [1, 2, 3, 4]\n",
        "lista.insert(2, 10)\n",
        "print(lista)"
      ],
      "metadata": {
        "colab": {
          "base_uri": "https://localhost:8080/"
        },
        "id": "qmVew-al0PAJ",
        "outputId": "f2d41826-0c5d-45ee-cf2b-a81cdaa86972"
      },
      "execution_count": null,
      "outputs": [
        {
          "output_type": "stream",
          "name": "stdout",
          "text": [
            "[1, 2, 10, 3, 4]\n"
          ]
        }
      ]
    },
    {
      "cell_type": "code",
      "source": [
        "def remover(self,pos):\n",
        "    atual = self.inicio\n",
        "    pos_atual = 0\n",
        "\n",
        "    while atual.proximo != None:\n",
        "\n",
        "      if pos_atual == (pos-1):\n",
        "        next = atual.proximo\n",
        "        atual.proximo = next.proximo\n",
        "      else:\n",
        "          atual = atual.proximo\n",
        "\n",
        "    pos_atual = pos_atual = 1"
      ],
      "metadata": {
        "id": "JF4w5d2g0jpP"
      },
      "execution_count": null,
      "outputs": []
    },
    {
      "cell_type": "code",
      "source": [
        "lista = [1, 2, 3, 4]\n",
        "lista.pop(2)\n",
        "print(lista)"
      ],
      "metadata": {
        "colab": {
          "base_uri": "https://localhost:8080/"
        },
        "id": "ISE8KVv-1VWv",
        "outputId": "4a983960-2c17-413f-82a0-f8cfd6f7414b"
      },
      "execution_count": null,
      "outputs": [
        {
          "output_type": "stream",
          "name": "stdout",
          "text": [
            "[1, 2, 4]\n"
          ]
        }
      ]
    }
  ]
}