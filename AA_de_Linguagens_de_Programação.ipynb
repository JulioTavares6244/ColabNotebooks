{
  "cells": [
    {
      "cell_type": "markdown",
      "metadata": {
        "id": "CxBs8lU8rfYv"
      },
      "source": [
        "#Atividade Ativa de Lógica de Programação e Estrutura de Dados\n",
        "\n",
        "###   Criação de um algoritmo que faça um conjunto de cinquenta numeros aleatórios para serem ordenados\n",
        "\n",
        "*   Criação e embaralhamento dos números a biblioteca **random**;\n",
        "\n",
        "*   Ordenação desse conjunto de valores com as funções **Bubble** e **Quick** *sort*;\n",
        "\n",
        "*   Medição de tempo dessas funções;\n",
        "\n",
        "*   Criação de um relatório explicando detalhadamente o algoritmo.\n"
      ]
    },
    {
      "cell_type": "code",
      "execution_count": null,
      "metadata": {
        "colab": {
          "base_uri": "https://localhost:8080/"
        },
        "id": "u2L5-c_qSZ6M",
        "outputId": "e1f747cb-4b2b-41aa-bcbf-38daddb929b0"
      },
      "outputs": [
        {
          "name": "stdout",
          "output_type": "stream",
          "text": [
            "Requirement already satisfied: sorting in /usr/local/lib/python3.7/dist-packages (1.0.3)\n"
          ]
        }
      ],
      "source": [
        "#Instalação das Bibliotecas Sorting, Random e funções \"List\" e \"Any\" da Biblioteca Typing\n",
        "\n",
        "!pip install sorting\n",
        "import sorting\n",
        "import random\n",
        "from typing import List, Any"
      ]
    },
    {
      "cell_type": "markdown",
      "metadata": {
        "id": "xY74g3NByotm"
      },
      "source": [
        "---\n",
        "- Eu ultilizarei a biblioteca ***Sorting*** aqui apenas pela praticidade na construção do código, para construí-los com menos linhas;\n",
        "- Igualmente com a ***Typing***, utilizando as funções List e Any, por costume e facilidade ao lidar com mais tipos de teste sem precisar declarar ou mudar o **tipo** de dado a todo momento."
      ]
    },
    {
      "cell_type": "code",
      "execution_count": null,
      "metadata": {
        "colab": {
          "background_save": true,
          "base_uri": "https://localhost:8080/"
        },
        "id": "Bh7czIFPRrhN",
        "outputId": "4a7dce31-04eb-4003-9b24-893bf6e01c85"
      },
      "outputs": [
        {
          "name": "stdout",
          "output_type": "stream",
          "text": [
            "Bagunçado:\n",
            "[384, 202, 584, 729, 701, 358, 749, 743, 712, 250, 464, 338, 633, 412, 393, 468, 735, 401, 291, 304, 417, 366, 602, 526, 402, 225, 373, 452, 561, 321, 439, 516, 243, 636, 370, 652, 588, 457, 469, 539, 787, 593, 264, 343, 711, 428, 442, 766, 669, 285]\n"
          ]
        }
      ],
      "source": [
        "#Gerando cinquenta valores aleatórios de 333 a 666\n",
        "\n",
        "numeros_aleatorio: List[Any] = random.sample(range(200, 800), 50)\n",
        "\n",
        "if __name__ == \"__main__\":\n",
        "    print(\"Bagunçado:\")\n",
        "    print(numeros_aleatorio)\n"
      ]
    },
    {
      "cell_type": "markdown",
      "metadata": {
        "id": "iQpv09fq1GmN"
      },
      "source": [
        "---\n",
        "- Eu decidi por não usar o método \"shuffle\", mas criar uma amóstra aleatória desde o \"range\", com o \"random.sample()\";\n",
        "- Decidi utilizar um range dos números 200 a 800 só para não ser parecido com nenhum outro código."
      ]
    },
    {
      "cell_type": "code",
      "execution_count": null,
      "metadata": {
        "colab": {
          "base_uri": "https://localhost:8080/"
        },
        "id": "FKJAdQhjwJLl",
        "outputId": "1d5c9814-57ce-4eda-8f42-2061e4260253"
      },
      "outputs": [
        {
          "output_type": "stream",
          "name": "stdout",
          "text": [
            "Ordenação por BUBBLESORT:\n",
            "[202, 225, 243, 250, 264, 285, 291, 304, 321, 338, 343, 358, 366, 370, 373, 384, 393, 401, 402, 412, 417, 428, 439, 442, 452, 457, 464, 468, 469, 516, 526, 539, 561, 584, 588, 593, 602, 633, 636, 652, 669, 701, 711, 712, 729, 735, 743, 749, 766, 787]\n",
            "\n",
            "CPU times: user 840 µs, sys: 0 ns, total: 840 µs\n",
            "Wall time: 850 µs\n"
          ]
        }
      ],
      "source": [
        "#Realizando a ordenação pela função \"bubble\" da bibliotéca Sorting\n",
        "\n",
        "%%time\n",
        "ordenacao_bubble = sorting.bubble(numeros_aleatorio)\n",
        "print(\"Ordenação por BUBBLESORT:\")\n",
        "print(ordenacao_bubble)\n",
        "print(\"\")"
      ]
    },
    {
      "cell_type": "code",
      "execution_count": null,
      "metadata": {
        "colab": {
          "base_uri": "https://localhost:8080/"
        },
        "id": "Lbrqk2TtwZal",
        "outputId": "6c03f8a1-8c9d-4154-a592-3a4ba0ad1a44"
      },
      "outputs": [
        {
          "output_type": "stream",
          "name": "stdout",
          "text": [
            "Ordenação por QUICKSORT:\n",
            "[202, 225, 243, 250, 264, 285, 291, 304, 321, 338, 343, 358, 366, 370, 373, 384, 393, 401, 402, 412, 417, 428, 439, 442, 452, 457, 464, 468, 469, 516, 526, 539, 561, 584, 588, 593, 602, 633, 636, 652, 669, 701, 711, 712, 729, 735, 743, 749, 766, 787]\n",
            "\n",
            "CPU times: user 1.61 ms, sys: 0 ns, total: 1.61 ms\n",
            "Wall time: 1.62 ms\n"
          ]
        }
      ],
      "source": [
        "#Realizando a ordenação pela função \"quick\" da bibliotéca Sorting\n",
        "\n",
        "%%time\n",
        "ordenacao_quick = sorting.quick(numeros_aleatorio)\n",
        "print(\"Ordenação por QUICKSORT:\")\n",
        "print(ordenacao_quick)\n",
        "print(\"\")"
      ]
    },
    {
      "cell_type": "markdown",
      "metadata": {
        "id": "6mSwh4As27Xf"
      },
      "source": [
        "##**Conclusão**\n",
        "\n",
        "- De acordo com os testes realizados com o algoritmo, a função **bubble** é mais rápida na ordenção de números aleatórios tendo o *wall time* de: 850 µs;\n",
        "- Enquanto a função **quick** tem uma *wall time* de 1.62 ms.\n",
        "\n",
        "Logo a função de ordenação ***bubble*** é a mais eficiente."
      ]
    }
  ],
  "metadata": {
    "colab": {
      "provenance": []
    },
    "kernelspec": {
      "display_name": "Python 3",
      "name": "python3"
    },
    "language_info": {
      "name": "python"
    }
  },
  "nbformat": 4,
  "nbformat_minor": 0
}